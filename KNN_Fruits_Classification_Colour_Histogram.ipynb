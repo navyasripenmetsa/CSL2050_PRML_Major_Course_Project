{
  "cells": [
    {
      "cell_type": "markdown",
      "metadata": {
        "id": "view-in-github",
        "colab_type": "text"
      },
      "source": [
        "<a href=\"https://colab.research.google.com/github/navyasripenmetsa/CSL2050_PRML_Major_Course_Project/blob/KNN/KNN_Fruits_Classification_Colour_Histogram.ipynb\" target=\"_parent\"><img src=\"https://colab.research.google.com/assets/colab-badge.svg\" alt=\"Open In Colab\"/></a>"
      ]
    },
    {
      "cell_type": "code",
      "execution_count": null,
      "metadata": {
        "colab": {
          "base_uri": "https://localhost:8080/"
        },
        "id": "-MEp4T8IzpFK",
        "outputId": "11588121-799d-46f8-f1bf-76288d3bfac3"
      },
      "outputs": [
        {
          "output_type": "stream",
          "name": "stdout",
          "text": [
            "Mounted at /content/drive\n"
          ]
        }
      ],
      "source": [
        "from google.colab import drive\n",
        "drive.mount('/content/drive')"
      ]
    },
    {
      "cell_type": "code",
      "source": [
        "file_path1 = \"/content/drive/My Drive/colour_Histogram_Training.csv\"\n",
        "file_path2 = \"/content/drive/My Drive/colour_Histogram_Testing.csv\""
      ],
      "metadata": {
        "id": "VwAuDAlInIPk"
      },
      "execution_count": null,
      "outputs": []
    },
    {
      "cell_type": "code",
      "source": [
        "# Using Colour Histogram Implementing KNN\n",
        "import pandas as pd\n",
        "CH_training_data=pd.read_csv(file_path1)\n",
        "CH_training_DataFrame=pd.DataFrame(CH_training_data)\n",
        "X_train=CH_training_DataFrame.drop(columns=[\"filename\",\"class\"])\n",
        "y_train=CH_training_DataFrame[\"class\"]\n",
        "print(X_train.head())"
      ],
      "metadata": {
        "id": "A6qtHEejqVfk",
        "colab": {
          "base_uri": "https://localhost:8080/"
        },
        "outputId": "1be11571-ae03-4806-db3b-e9cbf29a5556"
      },
      "execution_count": null,
      "outputs": [
        {
          "output_type": "stream",
          "name": "stdout",
          "text": [
            "    bin_0   bin_1   bin_2   bin_3   bin_4   bin_5   bin_6   bin_7   bin_8  \\\n",
            "0  0.0000  0.0010  0.0424  0.1141  0.2909  0.2101  0.0260  0.3155  0.0000   \n",
            "1  0.0008  0.0153  0.0587  0.1332  0.2876  0.1911  0.0081  0.3052  0.0046   \n",
            "2  0.0001  0.0155  0.0602  0.1366  0.2813  0.1854  0.0080  0.3129  0.0052   \n",
            "3  0.0003  0.0174  0.0567  0.1400  0.2774  0.1922  0.0091  0.3069  0.0046   \n",
            "4  0.0003  0.0186  0.0583  0.1427  0.2632  0.1926  0.0088  0.3155  0.0053   \n",
            "\n",
            "    bin_9  ...  bin_14  bin_15  bin_16  bin_17  bin_18  bin_19  bin_20  \\\n",
            "0  0.0132  ...  0.0226  0.3151  0.0312  0.1122  0.2437  0.1805  0.0927   \n",
            "1  0.0319  ...  0.0091  0.3051  0.0948  0.1708  0.2401  0.1445  0.0327   \n",
            "2  0.0294  ...  0.0079  0.3136  0.0945  0.1712  0.2329  0.1449  0.0323   \n",
            "3  0.0315  ...  0.0094  0.3069  0.1009  0.1679  0.2375  0.1416  0.0324   \n",
            "4  0.0327  ...  0.0099  0.3157  0.1039  0.1634  0.2261  0.1472  0.0304   \n",
            "\n",
            "   bin_21  bin_22  bin_23  \n",
            "0  0.0195  0.0073  0.3129  \n",
            "1  0.0070  0.0071  0.3030  \n",
            "2  0.0064  0.0074  0.3104  \n",
            "3  0.0076  0.0075  0.3046  \n",
            "4  0.0074  0.0084  0.3132  \n",
            "\n",
            "[5 rows x 24 columns]\n"
          ]
        }
      ]
    },
    {
      "cell_type": "code",
      "source": [
        "CH_testing_data=pd.read_csv(file_path2)\n",
        "CH_testing_DataFrame=pd.DataFrame(CH_testing_data)\n",
        "X_test=CH_testing_DataFrame.drop(columns=[\"filename\",\"class\"])\n",
        "y_test=CH_testing_DataFrame[\"class\"]\n",
        "print(X_test.head())"
      ],
      "metadata": {
        "id": "ZzuQvZ0RIudt",
        "colab": {
          "base_uri": "https://localhost:8080/"
        },
        "outputId": "b3c1990e-f5d3-4008-f068-36494c36d78c"
      },
      "execution_count": null,
      "outputs": [
        {
          "output_type": "stream",
          "name": "stdout",
          "text": [
            "    bin_0   bin_1   bin_2   bin_3   bin_4   bin_5   bin_6   bin_7   bin_8  \\\n",
            "0  0.0004  0.0176  0.0581  0.1434  0.2722  0.1882  0.0087  0.3114  0.0039   \n",
            "1  0.0003  0.0181  0.0619  0.1460  0.2567  0.1881  0.0076  0.3213  0.0066   \n",
            "2  0.0000  0.0202  0.0623  0.1483  0.2541  0.1756  0.0070  0.3325  0.0060   \n",
            "3  0.0000  0.0196  0.0699  0.1451  0.2456  0.1771  0.0091  0.3336  0.0057   \n",
            "4  0.0001  0.0216  0.0701  0.1351  0.2332  0.1829  0.0094  0.3476  0.0073   \n",
            "\n",
            "    bin_9  ...  bin_14  bin_15  bin_16  bin_17  bin_18  bin_19  bin_20  \\\n",
            "0  0.0330  ...  0.0094  0.3117  0.1028  0.1636  0.2328  0.1438  0.0325   \n",
            "1  0.0343  ...  0.0083  0.3218  0.1097  0.1738  0.2098  0.1469  0.0273   \n",
            "2  0.0380  ...  0.0088  0.3329  0.1183  0.1677  0.2018  0.1415  0.0269   \n",
            "3  0.0448  ...  0.0099  0.3341  0.1219  0.1697  0.2023  0.1341  0.0256   \n",
            "4  0.0452  ...  0.0102  0.3478  0.1242  0.1600  0.2025  0.1282  0.0245   \n",
            "\n",
            "   bin_21  bin_22  bin_23  \n",
            "0  0.0081  0.0067  0.3097  \n",
            "1  0.0066  0.0069  0.3190  \n",
            "2  0.0074  0.0067  0.3297  \n",
            "3  0.0078  0.0072  0.3314  \n",
            "4  0.0077  0.0080  0.3449  \n",
            "\n",
            "[5 rows x 24 columns]\n"
          ]
        }
      ]
    },
    {
      "cell_type": "markdown",
      "source": [
        "#**Using COLOUR HISTOGRAM-KNN**"
      ],
      "metadata": {
        "id": "spqZ8A8dFkja"
      }
    },
    {
      "cell_type": "code",
      "source": [
        "from sklearn.neighbors import KNeighborsClassifier\n",
        "from sklearn.metrics import accuracy_score\n",
        "\n",
        "for k in range(1,30):\n",
        "  # Step 1: Define KNN model with k neighbors (e.g., k=5)\n",
        "   knn = KNeighborsClassifier(n_neighbors=k)\n",
        "\n",
        "   # Step 2: Train the model on training data\n",
        "   knn.fit(X_train, y_train)\n",
        "\n",
        "   # Step 3: Make predictions on the test set (replace X_test with actual test data)\n",
        "   y_pred = knn.predict(X_test)\n",
        "\n",
        "  # Step 4: Evaluate accuracy\n",
        "   accuracy = accuracy_score(y_test, y_pred)\n",
        "   print(f\"Model Accuracy for k={k}: {accuracy:.4f}\")"
      ],
      "metadata": {
        "colab": {
          "base_uri": "https://localhost:8080/"
        },
        "id": "2vTK-JRKtgJy",
        "outputId": "1a90c5de-3989-4f1e-ad7c-0a005269b97d"
      },
      "execution_count": null,
      "outputs": [
        {
          "output_type": "stream",
          "name": "stdout",
          "text": [
            "Model Accuracy for k=1: 0.9494\n",
            "Model Accuracy for k=2: 0.9448\n",
            "Model Accuracy for k=3: 0.9406\n",
            "Model Accuracy for k=4: 0.9376\n",
            "Model Accuracy for k=5: 0.9345\n",
            "Model Accuracy for k=6: 0.9329\n",
            "Model Accuracy for k=7: 0.9304\n",
            "Model Accuracy for k=8: 0.9290\n",
            "Model Accuracy for k=9: 0.9265\n",
            "Model Accuracy for k=10: 0.9245\n",
            "Model Accuracy for k=11: 0.9221\n",
            "Model Accuracy for k=12: 0.9204\n",
            "Model Accuracy for k=13: 0.9182\n",
            "Model Accuracy for k=14: 0.9168\n",
            "Model Accuracy for k=15: 0.9157\n",
            "Model Accuracy for k=16: 0.9132\n",
            "Model Accuracy for k=17: 0.9120\n",
            "Model Accuracy for k=18: 0.9104\n",
            "Model Accuracy for k=19: 0.9096\n",
            "Model Accuracy for k=20: 0.9086\n",
            "Model Accuracy for k=21: 0.9073\n",
            "Model Accuracy for k=22: 0.9060\n",
            "Model Accuracy for k=23: 0.9052\n",
            "Model Accuracy for k=24: 0.9040\n",
            "Model Accuracy for k=25: 0.9029\n",
            "Model Accuracy for k=26: 0.9021\n",
            "Model Accuracy for k=27: 0.9017\n",
            "Model Accuracy for k=28: 0.9003\n",
            "Model Accuracy for k=29: 0.8989\n"
          ]
        }
      ]
    },
    {
      "cell_type": "markdown",
      "source": [
        "# **KNN USING HISTOGRAM OF ORIENTED GRADIENTS (HOG)**"
      ],
      "metadata": {
        "id": "PGMmxA2QXBbh"
      }
    },
    {
      "cell_type": "code",
      "source": [
        "import os\n",
        "import glob\n",
        "# Path to your folder\n",
        "folder_path = \"/content/drive/My Drive/HOG_features_CSV_files\"\n",
        "# List all CSV files\n",
        "csv_files = glob.glob(os.path.join(folder_path, \"*.csv\"))\n",
        "# Count the number of CSV files\n",
        "print(f\"Number of CSV files: {len(csv_files)}\")"
      ],
      "metadata": {
        "id": "-T9KkdPvXQT9",
        "colab": {
          "base_uri": "https://localhost:8080/"
        },
        "outputId": "b9d21e97-ecd1-4320-ce4f-4fe639eef53e"
      },
      "execution_count": null,
      "outputs": [
        {
          "output_type": "stream",
          "name": "stdout",
          "text": [
            "Number of CSV files: 141\n"
          ]
        }
      ]
    },
    {
      "cell_type": "code",
      "source": [
        "import os\n",
        "import glob\n",
        "import pandas as pd\n",
        "# Path to folder\n",
        "folder_path = \"/content/drive/My Drive/HOG_features_CSV_files\"\n",
        "# Get all CSV file paths\n",
        "csv_files = glob.glob(os.path.join(folder_path, \"*.csv\"))\n",
        "# Dictionary to store each CSV as a separate DataFrame\n",
        "dataframes_dict = {}\n",
        "for file in csv_files:\n",
        "    try:\n",
        "        # Extract file name (without extension) to use as DataFrame name\n",
        "        file_name = os.path.basename(file).split('.')[0]  # e.g., 'apple', 'banana'\n",
        "\n",
        "        # Read CSV (No headers in the file)\n",
        "        df = pd.read_csv(file, header=None)\n",
        "\n",
        "        # Store DataFrame in dictionary with a unique name\n",
        "        dataframes_dict[f\"{file_name}_dataframe_train\"] = df\n",
        "\n",
        "        print(f\"Loaded {file_name}_dataframe_train with shape: {df.shape}\")\n",
        "\n",
        "    except Exception as e:\n",
        "        print(f\"Error reading {file}: {e}\")\n",
        "\n",
        "# Now, we have separate DataFrames for each CSV\n",
        "print(f\"Total CSVs loaded: {len(dataframes_dict)}\")\n"
      ],
      "metadata": {
        "colab": {
          "base_uri": "https://localhost:8080/"
        },
        "id": "tNa-Ky0qhl7f",
        "outputId": "1578295c-b791-4711-f4b0-d7c1a12f785b"
      },
      "execution_count": null,
      "outputs": [
        {
          "output_type": "stream",
          "name": "stdout",
          "text": [
            "Loaded Apple 6_dataframe_train with shape: (473, 4357)\n",
            "Loaded Apple Braeburn 1_dataframe_train with shape: (492, 4357)\n",
            "Loaded Apple Crimson Snow 1_dataframe_train with shape: (444, 4357)\n",
            "Loaded Apple Golden 1_dataframe_train with shape: (480, 4357)\n",
            "Loaded Apple Golden 2_dataframe_train with shape: (492, 4357)\n",
            "Loaded Apple Golden 3_dataframe_train with shape: (481, 4357)\n",
            "Loaded Apple Granny Smith 1_dataframe_train with shape: (492, 4357)\n",
            "Loaded Apple Pink Lady 1_dataframe_train with shape: (456, 4357)\n",
            "Loaded Apple Red 1_dataframe_train with shape: (492, 4357)\n",
            "Loaded Apple Red 2_dataframe_train with shape: (492, 4357)\n",
            "Loaded Apple Red 3_dataframe_train with shape: (429, 4357)\n",
            "Loaded Apple Red Delicious 1_dataframe_train with shape: (490, 4357)\n",
            "Loaded Apple Red Yellow 1_dataframe_train with shape: (492, 4357)\n",
            "Loaded Apple Red Yellow 2_dataframe_train with shape: (672, 4357)\n",
            "Loaded Apple hit 1_dataframe_train with shape: (702, 4357)\n",
            "Loaded Apricot 1_dataframe_train with shape: (492, 4357)\n",
            "Loaded Avocado 1_dataframe_train with shape: (427, 4357)\n",
            "Loaded Avocado ripe 1_dataframe_train with shape: (491, 4357)\n",
            "Loaded Banana 1_dataframe_train with shape: (490, 4357)\n",
            "Loaded Banana Lady Finger 1_dataframe_train with shape: (450, 4357)\n",
            "Loaded Banana Red 1_dataframe_train with shape: (490, 4357)\n",
            "Loaded Beetroot 1_dataframe_train with shape: (450, 4357)\n",
            "Loaded Blueberry 1_dataframe_train with shape: (462, 4357)\n",
            "Loaded Cabbage white 1_dataframe_train with shape: (144, 4357)\n",
            "Loaded Cactus fruit 1_dataframe_train with shape: (490, 4357)\n",
            "Loaded Cantaloupe 1_dataframe_train with shape: (492, 4357)\n",
            "Loaded Cantaloupe 2_dataframe_train with shape: (492, 4357)\n",
            "Loaded Carambula 1_dataframe_train with shape: (490, 4357)\n",
            "Loaded Carrot 1_dataframe_train with shape: (151, 4357)\n",
            "Loaded Cauliflower 1_dataframe_train with shape: (702, 4357)\n",
            "Loaded Cherry 1_dataframe_train with shape: (492, 4357)\n",
            "Loaded Cherry 2_dataframe_train with shape: (738, 4357)\n",
            "Loaded Cherry Rainier 1_dataframe_train with shape: (738, 4357)\n",
            "Loaded Cherry Wax Black 1_dataframe_train with shape: (492, 4357)\n",
            "Loaded Cherry Wax Red 1_dataframe_train with shape: (492, 4357)\n",
            "Loaded Cherry Wax Yellow 1_dataframe_train with shape: (492, 4357)\n",
            "Loaded Chestnut 1_dataframe_train with shape: (450, 4357)\n",
            "Loaded Clementine 1_dataframe_train with shape: (490, 4357)\n",
            "Loaded Cocos 1_dataframe_train with shape: (490, 4357)\n",
            "Loaded Corn 1_dataframe_train with shape: (450, 4357)\n",
            "Loaded Corn Husk 1_dataframe_train with shape: (462, 4357)\n",
            "Loaded Cucumber 1_dataframe_train with shape: (150, 4357)\n",
            "Loaded Cucumber 3_dataframe_train with shape: (244, 4357)\n",
            "Loaded Cucumber Ripe 1_dataframe_train with shape: (392, 4357)\n",
            "Loaded Cucumber Ripe 2_dataframe_train with shape: (468, 4357)\n",
            "Loaded Dates 1_dataframe_train with shape: (490, 4357)\n",
            "Loaded Eggplant 1_dataframe_train with shape: (468, 4357)\n",
            "Loaded Eggplant long 1_dataframe_train with shape: (240, 4357)\n",
            "Loaded Fig 1_dataframe_train with shape: (702, 4357)\n",
            "Loaded Ginger Root 1_dataframe_train with shape: (297, 4357)\n",
            "Loaded Granadilla 1_dataframe_train with shape: (490, 4357)\n",
            "Loaded Grape Blue 1_dataframe_train with shape: (984, 4357)\n",
            "Loaded Grape Pink 1_dataframe_train with shape: (492, 4357)\n",
            "Loaded Grape White 1_dataframe_train with shape: (490, 4357)\n",
            "Loaded Grape White 2_dataframe_train with shape: (490, 4357)\n",
            "Loaded Grape White 3_dataframe_train with shape: (492, 4357)\n",
            "Loaded Grape White 4_dataframe_train with shape: (471, 4357)\n",
            "Loaded Grapefruit Pink 1_dataframe_train with shape: (490, 4357)\n",
            "Loaded Grapefruit White 1_dataframe_train with shape: (492, 4357)\n",
            "Loaded Guava 1_dataframe_train with shape: (490, 4357)\n",
            "Loaded Hazelnut 1_dataframe_train with shape: (464, 4357)\n",
            "Loaded Huckleberry 1_dataframe_train with shape: (490, 4357)\n",
            "Loaded Kaki 1_dataframe_train with shape: (490, 4357)\n",
            "Loaded Kiwi 1_dataframe_train with shape: (466, 4357)\n",
            "Loaded Kohlrabi 1_dataframe_train with shape: (471, 4357)\n",
            "Loaded Kumquats 1_dataframe_train with shape: (490, 4357)\n",
            "Loaded Lemon 1_dataframe_train with shape: (492, 4357)\n",
            "Loaded Lemon Meyer 1_dataframe_train with shape: (490, 4357)\n",
            "Loaded Limes 1_dataframe_train with shape: (490, 4357)\n",
            "Loaded Lychee 1_dataframe_train with shape: (490, 4357)\n",
            "Loaded Mandarine 1_dataframe_train with shape: (490, 4357)\n",
            "Loaded Mango 1_dataframe_train with shape: (490, 4357)\n",
            "Loaded Mango Red 1_dataframe_train with shape: (426, 4357)\n",
            "Loaded Mangostan 1_dataframe_train with shape: (300, 4357)\n",
            "Loaded Maracuja 1_dataframe_train with shape: (490, 4357)\n",
            "Loaded Melon Piel de Sapo 1_dataframe_train with shape: (738, 4357)\n",
            "Loaded Mulberry 1_dataframe_train with shape: (492, 4357)\n",
            "Loaded Nectarine 1_dataframe_train with shape: (492, 4357)\n",
            "Loaded Nectarine Flat 1_dataframe_train with shape: (480, 4357)\n",
            "Loaded Nut Forest 1_dataframe_train with shape: (654, 4357)\n",
            "Loaded Nut Pecan 1_dataframe_train with shape: (534, 4357)\n",
            "Loaded Onion Red 1_dataframe_train with shape: (450, 4357)\n",
            "Loaded Onion Red Peeled 1_dataframe_train with shape: (445, 4357)\n",
            "Loaded Onion White 1_dataframe_train with shape: (438, 4357)\n",
            "Loaded Orange 1_dataframe_train with shape: (479, 4357)\n",
            "Loaded Papaya 1_dataframe_train with shape: (492, 4357)\n",
            "Loaded Passion Fruit 1_dataframe_train with shape: (490, 4357)\n",
            "Loaded Peach 1_dataframe_train with shape: (492, 4357)\n",
            "Loaded Peach 2_dataframe_train with shape: (738, 4357)\n",
            "Loaded Peach Flat 1_dataframe_train with shape: (492, 4357)\n",
            "Loaded Pear 1_dataframe_train with shape: (492, 4357)\n",
            "Loaded Pear 2_dataframe_train with shape: (696, 4357)\n",
            "Loaded Pear 3_dataframe_train with shape: (215, 4357)\n",
            "Loaded Pear Abate 1_dataframe_train with shape: (490, 4357)\n",
            "Loaded Pear Forelle 1_dataframe_train with shape: (702, 4357)\n",
            "Loaded Pear Kaiser 1_dataframe_train with shape: (300, 4357)\n",
            "Loaded Pear Monster 1_dataframe_train with shape: (490, 4357)\n",
            "Loaded Pear Red 1_dataframe_train with shape: (666, 4357)\n",
            "Loaded Pear Stone 1_dataframe_train with shape: (711, 4357)\n",
            "Loaded Pear Williams 1_dataframe_train with shape: (490, 4357)\n",
            "Loaded Pepino 1_dataframe_train with shape: (490, 4357)\n",
            "Loaded Pepper Green 1_dataframe_train with shape: (444, 4357)\n",
            "Loaded Pepper Orange 1_dataframe_train with shape: (702, 4357)\n",
            "Loaded Pepper Red 1_dataframe_train with shape: (666, 4357)\n",
            "Loaded Pepper Yellow 1_dataframe_train with shape: (666, 4357)\n",
            "Loaded Physalis 1_dataframe_train with shape: (492, 4357)\n",
            "Loaded Physalis with Husk 1_dataframe_train with shape: (492, 4357)\n",
            "Loaded Pineapple 1_dataframe_train with shape: (490, 4357)\n",
            "Loaded Pineapple Mini 1_dataframe_train with shape: (493, 4357)\n",
            "Loaded Pitahaya Red 1_dataframe_train with shape: (490, 4357)\n",
            "Loaded Plum 1_dataframe_train with shape: (447, 4357)\n",
            "Loaded Plum 2_dataframe_train with shape: (420, 4357)\n",
            "Loaded Plum 3_dataframe_train with shape: (900, 4357)\n",
            "Loaded Pomegranate 1_dataframe_train with shape: (492, 4357)\n",
            "Loaded Pomelo Sweetie 1_dataframe_train with shape: (450, 4357)\n",
            "Loaded Potato Red 1_dataframe_train with shape: (450, 4357)\n",
            "Loaded Potato Red Washed 1_dataframe_train with shape: (453, 4357)\n",
            "Loaded Potato Sweet 1_dataframe_train with shape: (450, 4357)\n",
            "Loaded Potato White 1_dataframe_train with shape: (450, 4357)\n",
            "Loaded Quince 1_dataframe_train with shape: (490, 4357)\n",
            "Loaded Rambutan 1_dataframe_train with shape: (492, 4357)\n",
            "Loaded Raspberry 1_dataframe_train with shape: (490, 4357)\n",
            "Loaded Redcurrant 1_dataframe_train with shape: (492, 4357)\n",
            "Loaded Salak 1_dataframe_train with shape: (490, 4357)\n",
            "Loaded Strawberry 1_dataframe_train with shape: (492, 4357)\n",
            "Loaded Strawberry Wedge 1_dataframe_train with shape: (738, 4357)\n",
            "Loaded Tamarillo 1_dataframe_train with shape: (490, 4357)\n",
            "Loaded Tangelo 1_dataframe_train with shape: (490, 4357)\n",
            "Loaded Tomato 1_dataframe_train with shape: (738, 4357)\n",
            "Loaded Tomato 2_dataframe_train with shape: (672, 4357)\n",
            "Loaded Tomato 3_dataframe_train with shape: (738, 4357)\n",
            "Loaded Tomato 4_dataframe_train with shape: (479, 4357)\n",
            "Loaded Tomato Cherry Red 1_dataframe_train with shape: (492, 4357)\n",
            "Loaded Tomato Heart 1_dataframe_train with shape: (684, 4357)\n",
            "Loaded Tomato Maroon 1_dataframe_train with shape: (367, 4357)\n",
            "Loaded Tomato Yellow 1_dataframe_train with shape: (459, 4357)\n",
            "Loaded Tomato not Ripened 1_dataframe_train with shape: (474, 4357)\n",
            "Loaded Walnut 1_dataframe_train with shape: (735, 4357)\n",
            "Loaded Watermelon 1_dataframe_train with shape: (475, 4357)\n",
            "Loaded Zucchini 1_dataframe_train with shape: (240, 4357)\n",
            "Loaded Zucchini dark 1_dataframe_train with shape: (240, 4357)\n",
            "Total CSVs loaded: 141\n"
          ]
        }
      ]
    },
    {
      "cell_type": "code",
      "source": [
        "import pandas as pd\n",
        "# Combine all DataFrames in the dictionary into one\n",
        "HOG_training_DataFrame = pd.concat(dataframes_dict.values(), ignore_index=True)\n",
        "print(f\"Final HOG_training_DataFrame shape: {HOG_training_DataFrame.shape}\")\n"
      ],
      "metadata": {
        "colab": {
          "base_uri": "https://localhost:8080/"
        },
        "id": "EBnISyV_lcgx",
        "outputId": "040743cf-4ac7-44d2-97c8-c5e3c28cd5f4"
      },
      "execution_count": null,
      "outputs": [
        {
          "output_type": "stream",
          "name": "stdout",
          "text": [
            "Final HOG_training_DataFrame shape: (70491, 4357)\n"
          ]
        }
      ]
    },
    {
      "cell_type": "markdown",
      "source": [
        "# **TESTING DATA FRAMES**"
      ],
      "metadata": {
        "id": "_HPXqY5qo2eH"
      }
    },
    {
      "cell_type": "code",
      "source": [
        "import os\n",
        "import glob\n",
        "import pandas as pd\n",
        "# Path to folder\n",
        "folder_path = \"/content/drive/My Drive/HOG_features_CSV_files_Testing\"\n",
        "# Get all CSV file paths\n",
        "csv_files = glob.glob(os.path.join(folder_path, \"*.csv\"))\n",
        "# Dictionary to store each CSV as a separate DataFrame\n",
        "dataframes_dict_testing = {}\n",
        "for file in csv_files:\n",
        "    try:\n",
        "        # Extract file name (without extension) to use as DataFrame name\n",
        "        file_name = os.path.basename(file).split('.')[0]  # e.g., 'apple', 'banana'\n",
        "\n",
        "        # Read CSV (No headers in the file)\n",
        "        df = pd.read_csv(file, header=None)\n",
        "\n",
        "        # Store DataFrame in dictionary with a unique name\n",
        "        dataframes_dict_testing[f\"{file_name}_dataframe_test\"] = df\n",
        "\n",
        "        print(f\"Loaded {file_name}_dataframe with shape: {df.shape}\")\n",
        "\n",
        "    except Exception as e:\n",
        "        print(f\"Error reading {file}: {e}\")\n",
        "\n",
        "# Now, we have separate DataFrames for each CSV\n",
        "print(f\"Total CSVs loaded: {len(dataframes_dict_testing)}\")\n"
      ],
      "metadata": {
        "colab": {
          "base_uri": "https://localhost:8080/"
        },
        "id": "fqEeW1SAo7rr",
        "outputId": "ad22ee21-127f-49ac-b321-e61f2653a470"
      },
      "execution_count": null,
      "outputs": [
        {
          "output_type": "stream",
          "name": "stdout",
          "text": [
            "Loaded Apple 6_testing_dataframe with shape: (157, 4357)\n",
            "Loaded Apple Braeburn 1_testing_dataframe with shape: (164, 4357)\n",
            "Loaded Apple Crimson Snow 1_testing_dataframe with shape: (148, 4357)\n",
            "Loaded Apple Golden 1_testing_dataframe with shape: (160, 4357)\n",
            "Loaded Apple Golden 2_testing_dataframe with shape: (164, 4357)\n",
            "Loaded Apple Golden 3_testing_dataframe with shape: (161, 4357)\n",
            "Loaded Apple Granny Smith 1_testing_dataframe with shape: (164, 4357)\n",
            "Loaded Apple Pink Lady 1_testing_dataframe with shape: (152, 4357)\n",
            "Loaded Apple Red 1_testing_dataframe with shape: (164, 4357)\n",
            "Loaded Apple Red 2_testing_dataframe with shape: (164, 4357)\n",
            "Loaded Apple Red 3_testing_dataframe with shape: (144, 4357)\n",
            "Loaded Apple Red Delicious 1_testing_dataframe with shape: (166, 4357)\n",
            "Loaded Apple Red Yellow 1_testing_dataframe with shape: (164, 4357)\n",
            "Loaded Apple Red Yellow 2_testing_dataframe with shape: (219, 4357)\n",
            "Loaded Apple hit 1_testing_dataframe with shape: (234, 4357)\n",
            "Loaded Apricot 1_testing_dataframe with shape: (164, 4357)\n",
            "Loaded Avocado 1_testing_dataframe with shape: (143, 4357)\n",
            "Loaded Avocado ripe 1_testing_dataframe with shape: (166, 4357)\n",
            "Loaded Banana 1_testing_dataframe with shape: (166, 4357)\n",
            "Loaded Banana Lady Finger 1_testing_dataframe with shape: (152, 4357)\n",
            "Loaded Banana Red 1_testing_dataframe with shape: (166, 4357)\n",
            "Loaded Beetroot 1_testing_dataframe with shape: (150, 4357)\n",
            "Loaded Blueberry 1_testing_dataframe with shape: (154, 4357)\n",
            "Loaded Cabbage white 1_testing_dataframe with shape: (47, 4357)\n",
            "Loaded Cactus fruit 1_testing_dataframe with shape: (166, 4357)\n",
            "Loaded Cantaloupe 1_testing_dataframe with shape: (164, 4357)\n",
            "Loaded Cantaloupe 2_testing_dataframe with shape: (164, 4357)\n",
            "Loaded Carambula 1_testing_dataframe with shape: (166, 4357)\n",
            "Loaded Carrot 1_testing_dataframe with shape: (50, 4357)\n",
            "Loaded Cauliflower 1_testing_dataframe with shape: (234, 4357)\n",
            "Loaded Cherry 1_testing_dataframe with shape: (164, 4357)\n",
            "Loaded Cherry 2_testing_dataframe with shape: (246, 4357)\n",
            "Loaded Cherry Rainier 1_testing_dataframe with shape: (246, 4357)\n",
            "Loaded Cherry Wax Black 1_testing_dataframe with shape: (164, 4357)\n",
            "Loaded Cherry Wax Red 1_testing_dataframe with shape: (164, 4357)\n",
            "Loaded Cherry Wax Yellow 1_testing_dataframe with shape: (164, 4357)\n",
            "Loaded Chestnut 1_testing_dataframe with shape: (153, 4357)\n",
            "Loaded Clementine 1_testing_dataframe with shape: (166, 4357)\n",
            "Loaded Cocos 1_testing_dataframe with shape: (166, 4357)\n",
            "Loaded Corn 1_testing_dataframe with shape: (150, 4357)\n",
            "Loaded Corn Husk 1_testing_dataframe with shape: (154, 4357)\n",
            "Loaded Cucumber 1_testing_dataframe with shape: (50, 4357)\n",
            "Loaded Cucumber 3_testing_dataframe with shape: (81, 4357)\n",
            "Loaded Cucumber Ripe 1_testing_dataframe with shape: (130, 4357)\n",
            "Loaded Cucumber Ripe 2_testing_dataframe with shape: (156, 4357)\n",
            "Loaded Dates 1_testing_dataframe with shape: (166, 4357)\n",
            "Loaded Eggplant 1_testing_dataframe with shape: (156, 4357)\n",
            "Loaded Eggplant long 1_testing_dataframe with shape: (80, 4357)\n",
            "Loaded Fig 1_testing_dataframe with shape: (234, 4357)\n",
            "Loaded Ginger Root 1_testing_dataframe with shape: (99, 4357)\n",
            "Loaded Granadilla 1_testing_dataframe with shape: (166, 4357)\n",
            "Loaded Grape Blue 1_testing_dataframe with shape: (328, 4357)\n",
            "Loaded Grape Pink 1_testing_dataframe with shape: (164, 4357)\n",
            "Loaded Grape White 1_testing_dataframe with shape: (166, 4357)\n",
            "Loaded Grape White 2_testing_dataframe with shape: (166, 4357)\n",
            "Loaded Grape White 3_testing_dataframe with shape: (164, 4357)\n",
            "Loaded Grape White 4_testing_dataframe with shape: (158, 4357)\n",
            "Loaded Grapefruit Pink 1_testing_dataframe with shape: (166, 4357)\n",
            "Loaded Grapefruit White 1_testing_dataframe with shape: (164, 4357)\n",
            "Loaded Guava 1_testing_dataframe with shape: (166, 4357)\n",
            "Loaded Hazelnut 1_testing_dataframe with shape: (157, 4357)\n",
            "Loaded Huckleberry 1_testing_dataframe with shape: (166, 4357)\n",
            "Loaded Kaki 1_testing_dataframe with shape: (166, 4357)\n",
            "Loaded Kiwi 1_testing_dataframe with shape: (156, 4357)\n",
            "Loaded Kohlrabi 1_testing_dataframe with shape: (157, 4357)\n",
            "Loaded Kumquats 1_testing_dataframe with shape: (166, 4357)\n",
            "Loaded Lemon 1_testing_dataframe with shape: (164, 4357)\n",
            "Loaded Lemon Meyer 1_testing_dataframe with shape: (166, 4357)\n",
            "Loaded Limes 1_testing_dataframe with shape: (166, 4357)\n",
            "Loaded Lychee 1_testing_dataframe with shape: (166, 4357)\n",
            "Loaded Mandarine 1_testing_dataframe with shape: (166, 4357)\n",
            "Loaded Mango 1_testing_dataframe with shape: (166, 4357)\n",
            "Loaded Mango Red 1_testing_dataframe with shape: (142, 4357)\n",
            "Loaded Mangostan 1_testing_dataframe with shape: (102, 4357)\n",
            "Loaded Maracuja 1_testing_dataframe with shape: (166, 4357)\n",
            "Loaded Melon Piel de Sapo 1_testing_dataframe with shape: (246, 4357)\n",
            "Loaded Mulberry 1_testing_dataframe with shape: (164, 4357)\n",
            "Loaded Nectarine 1_testing_dataframe with shape: (164, 4357)\n",
            "Loaded Nectarine Flat 1_testing_dataframe with shape: (160, 4357)\n",
            "Loaded Nut Forest 1_testing_dataframe with shape: (218, 4357)\n",
            "Loaded Nut Pecan 1_testing_dataframe with shape: (178, 4357)\n",
            "Loaded Onion Red 1_testing_dataframe with shape: (150, 4357)\n",
            "Loaded Onion Red Peeled 1_testing_dataframe with shape: (155, 4357)\n",
            "Loaded Onion White 1_testing_dataframe with shape: (146, 4357)\n",
            "Loaded Orange 1_testing_dataframe with shape: (160, 4357)\n",
            "Loaded Papaya 1_testing_dataframe with shape: (164, 4357)\n",
            "Loaded Passion Fruit 1_testing_dataframe with shape: (166, 4357)\n",
            "Loaded Peach 1_testing_dataframe with shape: (164, 4357)\n",
            "Loaded Peach 2_testing_dataframe with shape: (246, 4357)\n",
            "Loaded Peach Flat 1_testing_dataframe with shape: (164, 4357)\n",
            "Loaded Pear 1_testing_dataframe with shape: (164, 4357)\n",
            "Loaded Pear 2_testing_dataframe with shape: (232, 4357)\n",
            "Loaded Pear 3_testing_dataframe with shape: (72, 4357)\n",
            "Loaded Pear Abate 1_testing_dataframe with shape: (166, 4357)\n",
            "Loaded Pear Forelle 1_testing_dataframe with shape: (234, 4357)\n",
            "Loaded Pear Kaiser 1_testing_dataframe with shape: (102, 4357)\n",
            "Loaded Pear Monster 1_testing_dataframe with shape: (166, 4357)\n",
            "Loaded Pear Red 1_testing_dataframe with shape: (222, 4357)\n",
            "Loaded Pear Stone 1_testing_dataframe with shape: (237, 4357)\n",
            "Loaded Pear Williams 1_testing_dataframe with shape: (166, 4357)\n",
            "Loaded Pepino 1_testing_dataframe with shape: (166, 4357)\n",
            "Loaded Pepper Green 1_testing_dataframe with shape: (148, 4357)\n",
            "Loaded Pepper Orange 1_testing_dataframe with shape: (234, 4357)\n",
            "Loaded Pepper Red 1_testing_dataframe with shape: (222, 4357)\n",
            "Loaded Pepper Yellow 1_testing_dataframe with shape: (222, 4357)\n",
            "Loaded Physalis 1_testing_dataframe with shape: (164, 4357)\n",
            "Loaded Physalis with Husk 1_testing_dataframe with shape: (164, 4357)\n",
            "Loaded Pineapple 1_testing_dataframe with shape: (166, 4357)\n",
            "Loaded Pineapple Mini 1_testing_dataframe with shape: (163, 4357)\n",
            "Loaded Pitahaya Red 1_testing_dataframe with shape: (166, 4357)\n",
            "Loaded Plum 1_testing_dataframe with shape: (151, 4357)\n",
            "Loaded Plum 2_testing_dataframe with shape: (142, 4357)\n",
            "Loaded Plum 3_testing_dataframe with shape: (304, 4357)\n",
            "Loaded Pomegranate 1_testing_dataframe with shape: (164, 4357)\n",
            "Loaded Pomelo Sweetie 1_testing_dataframe with shape: (153, 4357)\n",
            "Loaded Potato Red 1_testing_dataframe with shape: (150, 4357)\n",
            "Loaded Potato Red Washed 1_testing_dataframe with shape: (151, 4357)\n",
            "Loaded Potato Sweet 1_testing_dataframe with shape: (150, 4357)\n",
            "Loaded Potato White 1_testing_dataframe with shape: (150, 4357)\n",
            "Loaded Quince 1_testing_dataframe with shape: (166, 4357)\n",
            "Loaded Rambutan 1_testing_dataframe with shape: (164, 4357)\n",
            "Loaded Raspberry 1_testing_dataframe with shape: (166, 4357)\n",
            "Loaded Redcurrant 1_testing_dataframe with shape: (164, 4357)\n",
            "Loaded Salak 1_testing_dataframe with shape: (162, 4357)\n",
            "Loaded Strawberry 1_testing_dataframe with shape: (164, 4357)\n",
            "Loaded Strawberry Wedge 1_testing_dataframe with shape: (246, 4357)\n",
            "Loaded Tamarillo 1_testing_dataframe with shape: (166, 4357)\n",
            "Loaded Tangelo 1_testing_dataframe with shape: (166, 4357)\n",
            "Loaded Tomato 1_testing_dataframe with shape: (246, 4357)\n",
            "Loaded Tomato 2_testing_dataframe with shape: (225, 4357)\n",
            "Loaded Tomato 3_testing_dataframe with shape: (246, 4357)\n",
            "Loaded Tomato 4_testing_dataframe with shape: (160, 4357)\n",
            "Loaded Tomato Cherry Red 1_testing_dataframe with shape: (164, 4357)\n",
            "Loaded Tomato Heart 1_testing_dataframe with shape: (228, 4357)\n",
            "Loaded Tomato Maroon 1_testing_dataframe with shape: (127, 4357)\n",
            "Loaded Tomato Yellow 1_testing_dataframe with shape: (153, 4357)\n",
            "Loaded Tomato not Ripened 1_testing_dataframe with shape: (158, 4357)\n",
            "Loaded Walnut 1_testing_dataframe with shape: (249, 4357)\n",
            "Loaded Watermelon 1_testing_dataframe with shape: (157, 4357)\n",
            "Loaded Zucchini 1_testing_dataframe with shape: (80, 4357)\n",
            "Loaded Zucchini dark 1_testing_dataframe with shape: (80, 4357)\n",
            "Total CSVs loaded: 141\n"
          ]
        }
      ]
    },
    {
      "cell_type": "code",
      "source": [
        "import pandas as pd\n",
        "# Combine all DataFrames in the dictionary into one\n",
        "HOG_testing_DataFrame = pd.concat(dataframes_dict_testing.values(), ignore_index=True)\n",
        "print(f\"Final HOG_testing_DataFrame shape: {HOG_testing_DataFrame.shape}\")\n"
      ],
      "metadata": {
        "colab": {
          "base_uri": "https://localhost:8080/"
        },
        "id": "mCYVz8Vzqb5L",
        "outputId": "22e5f5db-95e9-4cfb-ac57-f114d42c3898"
      },
      "execution_count": null,
      "outputs": [
        {
          "output_type": "stream",
          "name": "stdout",
          "text": [
            "Final HOG_testing_DataFrame shape: (23619, 4357)\n"
          ]
        }
      ]
    },
    {
      "cell_type": "markdown",
      "source": [
        "# **X_train,y_train,X_test,y_test**"
      ],
      "metadata": {
        "id": "7MkzgGtLrg2W"
      }
    },
    {
      "cell_type": "code",
      "source": [
        "import pandas as pd\n",
        "# Split training data into features (X_train) and labels (y_train)\n",
        "X_train = HOG_training_DataFrame.iloc[:, :-1]  # All columns except last\n",
        "y_train = HOG_training_DataFrame.iloc[:, -1]   # Last column (class labels)\n",
        "# Split testing data into features (X_test) and labels (y_test)\n",
        "X_test = HOG_testing_DataFrame.iloc[:, :-1]  # All columns except last\n",
        "y_test = HOG_testing_DataFrame.iloc[:, -1]   # Last column (class labels)\n",
        "print(f\"X_train shape: {X_train.shape}, y_train shape: {y_train.shape}\")\n",
        "print(f\"X_test shape: {X_test.shape}, y_test shape: {y_test.shape}\")\n"
      ],
      "metadata": {
        "colab": {
          "base_uri": "https://localhost:8080/"
        },
        "id": "PawwvNA0rqA8",
        "outputId": "2426ac5d-e08f-4dcb-972e-ddbd34b9bf46"
      },
      "execution_count": null,
      "outputs": [
        {
          "output_type": "stream",
          "name": "stdout",
          "text": [
            "X_train shape: (70491, 4356), y_train shape: (70491,)\n",
            "X_test shape: (23619, 4356), y_test shape: (23619,)\n"
          ]
        }
      ]
    },
    {
      "cell_type": "code",
      "source": [
        "from sklearn.decomposition import PCA\n",
        "# Define the number of principal components (e.g., keep 95% variance)\n",
        "pca = PCA(n_components=0.95)  # Keeps 95% of variance\n",
        "# Fit PCA on training data and transform both train & test sets\n",
        "X_train_pca = pca.fit_transform(X_train)\n",
        "X_test_pca = pca.transform(X_test)\n",
        "print(f\"X_train_pca shape: {X_train_pca.shape}\")\n",
        "print(f\"X_test_pca shape: {X_test_pca.shape}\")\n"
      ],
      "metadata": {
        "colab": {
          "base_uri": "https://localhost:8080/",
          "height": 211
        },
        "id": "zOEfu22gsW2C",
        "outputId": "ec39ab1f-957b-4445-e312-93df438a0914"
      },
      "execution_count": null,
      "outputs": [
        {
          "output_type": "error",
          "ename": "NameError",
          "evalue": "name 'X_train' is not defined",
          "traceback": [
            "\u001b[0;31m---------------------------------------------------------------------------\u001b[0m",
            "\u001b[0;31mNameError\u001b[0m                                 Traceback (most recent call last)",
            "\u001b[0;32m<ipython-input-1-21ff0c4e0775>\u001b[0m in \u001b[0;36m<cell line: 0>\u001b[0;34m()\u001b[0m\n\u001b[1;32m      3\u001b[0m \u001b[0mpca\u001b[0m \u001b[0;34m=\u001b[0m \u001b[0mPCA\u001b[0m\u001b[0;34m(\u001b[0m\u001b[0mn_components\u001b[0m\u001b[0;34m=\u001b[0m\u001b[0;36m0.95\u001b[0m\u001b[0;34m)\u001b[0m  \u001b[0;31m# Keeps 95% of variance\u001b[0m\u001b[0;34m\u001b[0m\u001b[0;34m\u001b[0m\u001b[0m\n\u001b[1;32m      4\u001b[0m \u001b[0;31m# Fit PCA on training data and transform both train & test sets\u001b[0m\u001b[0;34m\u001b[0m\u001b[0;34m\u001b[0m\u001b[0m\n\u001b[0;32m----> 5\u001b[0;31m \u001b[0mX_train_pca\u001b[0m \u001b[0;34m=\u001b[0m \u001b[0mpca\u001b[0m\u001b[0;34m.\u001b[0m\u001b[0mfit_transform\u001b[0m\u001b[0;34m(\u001b[0m\u001b[0mX_train\u001b[0m\u001b[0;34m)\u001b[0m\u001b[0;34m\u001b[0m\u001b[0;34m\u001b[0m\u001b[0m\n\u001b[0m\u001b[1;32m      6\u001b[0m \u001b[0mX_test_pca\u001b[0m \u001b[0;34m=\u001b[0m \u001b[0mpca\u001b[0m\u001b[0;34m.\u001b[0m\u001b[0mtransform\u001b[0m\u001b[0;34m(\u001b[0m\u001b[0mX_test\u001b[0m\u001b[0;34m)\u001b[0m\u001b[0;34m\u001b[0m\u001b[0;34m\u001b[0m\u001b[0m\n\u001b[1;32m      7\u001b[0m \u001b[0mprint\u001b[0m\u001b[0;34m(\u001b[0m\u001b[0;34mf\"X_train_pca shape: {X_train_pca.shape}\"\u001b[0m\u001b[0;34m)\u001b[0m\u001b[0;34m\u001b[0m\u001b[0;34m\u001b[0m\u001b[0m\n",
            "\u001b[0;31mNameError\u001b[0m: name 'X_train' is not defined"
          ]
        }
      ]
    },
    {
      "cell_type": "code",
      "source": [
        "\n",
        "\n"
      ],
      "metadata": {
        "id": "pQujLbzGRQvi"
      },
      "execution_count": null,
      "outputs": []
    }
  ],
  "metadata": {
    "colab": {
      "provenance": [],
      "gpuType": "T4",
      "include_colab_link": true
    },
    "kernelspec": {
      "display_name": "Python 3",
      "name": "python3"
    },
    "language_info": {
      "name": "python"
    },
    "accelerator": "GPU"
  },
  "nbformat": 4,
  "nbformat_minor": 0
}