{
  "nbformat": 4,
  "nbformat_minor": 0,
  "metadata": {
    "colab": {
      "provenance": [],
      "gpuType": "T4"
    },
    "kernelspec": {
      "name": "python3",
      "display_name": "Python 3"
    },
    "language_info": {
      "name": "python"
    },
    "accelerator": "GPU"
  },
  "cells": [
    {
      "cell_type": "code",
      "execution_count": 9,
      "metadata": {
        "colab": {
          "base_uri": "https://localhost:8080/"
        },
        "id": "hVRhJE9CPf0i",
        "outputId": "795e557f-3bc2-487d-ce38-e92e9edb936f"
      },
      "outputs": [
        {
          "output_type": "stream",
          "name": "stdout",
          "text": [
            "Model Accuracy: 0.7923\n"
          ]
        }
      ],
      "source": [
        "import pandas as pd\n",
        "import numpy as np\n",
        "from sklearn.preprocessing import LabelEncoder\n",
        "from sklearn.ensemble import RandomForestClassifier\n",
        "from sklearn.metrics import accuracy_score\n",
        "\n",
        "# Load the datasets\n",
        "train_df = pd.read_csv(\"/content/hog_features_train.csv\")\n",
        "test_df = pd.read_csv(\"/content/fruits_hog_features_test.csv\")\n",
        "\n",
        "# Check if 'Class' column exists\n",
        "if \"Class\" not in train_df.columns or \"Class\" not in test_df.columns:\n",
        "    raise ValueError(\"Class column not found in train or test dataset!\")\n",
        "\n",
        "# Split features (X) and labels (y)\n",
        "X_train = train_df.drop(columns=[\"Class\"])  # Features for training\n",
        "y_train = train_df[\"Class\"]  # Target labels for training\n",
        "\n",
        "X_test = test_df.drop(columns=[\"Class\"])  # Features for testing\n",
        "y_test = test_df[\"Class\"]  # Target labels for testing\n",
        "\n",
        "# Encode labels (only for the 'Class' column)\n",
        "label_encoder = LabelEncoder()\n",
        "y_train = label_encoder.fit_transform(y_train)  # Fit on training labels\n",
        "y_test = label_encoder.transform(y_test)  # Transform test labels\n",
        "\n",
        "# Train the model (Random Forest)\n",
        "clf = RandomForestClassifier(n_estimators=100, random_state=42)\n",
        "clf.fit(X_train, y_train)\n",
        "\n",
        "# Make predictions\n",
        "y_pred = clf.predict(X_test)\n",
        "\n",
        "# Compute accuracy\n",
        "accuracy = accuracy_score(y_test, y_pred)\n",
        "print(f\"Model Accuracy: {accuracy:.4f}\")\n"
      ]
    }
  ]
}