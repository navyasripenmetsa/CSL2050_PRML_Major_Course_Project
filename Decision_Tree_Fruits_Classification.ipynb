from google.colab import drive
drive.mount('/content/drive')
import pandas as pd
from sklearn.preprocessing import LabelEncoder
from sklearn.tree import DecisionTreeClassifier
from sklearn.metrics import accuracy_score
import pandas as pd

# Update the path according to your file location
train_path = "/content/drive/My Drive/colour_Histogram_Training.csv"
test_path = "/content/drive/My Drive/colour_Histogram_Testing.csv"

# Load the CSV files
df_train = pd.read_csv(train_path)
df_test = pd.read_csv(test_path)

# Display the first few rows
df_train.head(), df_test.head()
