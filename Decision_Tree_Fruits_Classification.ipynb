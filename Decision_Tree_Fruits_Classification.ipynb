{
  "nbformat": 4,
  "nbformat_minor": 0,
  "metadata": {
    "colab": {
      "provenance": [],
      "include_colab_link": true
    },
    "kernelspec": {
      "name": "python3",
      "display_name": "Python 3"
    },
    "language_info": {
      "name": "python"
    }
  },
  "cells": [
    {
      "cell_type": "markdown",
      "metadata": {
        "id": "view-in-github",
        "colab_type": "text"
      },
      "source": [
        "<a href=\"https://colab.research.google.com/github/navyasripenmetsa/CSL2050_PRML_Major_Course_Project/blob/Decision_Trees/Decision_Tree_Fruits_Classification.ipynb\" target=\"_parent\"><img src=\"https://colab.research.google.com/assets/colab-badge.svg\" alt=\"Open In Colab\"/></a>"
      ]
    },
    {
      "cell_type": "markdown",
      "source": [
        "**DECISON TREE USING COLOUR HISTOGRAM**"
      ],
      "metadata": {
        "id": "M0UXE2Gg-vzy"
      }
    },
    {
      "cell_type": "markdown",
      "source": [
        "**MOUNT GOOGLE DRIVE**"
      ],
      "metadata": {
        "id": "v6kc8glrEb0O"
      }
    },
    {
      "cell_type": "code",
      "source": [
        "from google.colab import drive\n",
        "drive.mount('/content/drive')"
      ],
      "metadata": {
        "colab": {
          "base_uri": "https://localhost:8080/"
        },
        "id": "VoiFxbaLgNeW",
        "outputId": "ee87671a-f4bc-4ba6-b4f0-3a2119a0bcf4"
      },
      "execution_count": null,
      "outputs": [
        {
          "output_type": "stream",
          "name": "stdout",
          "text": [
            "Drive already mounted at /content/drive; to attempt to forcibly remount, call drive.mount(\"/content/drive\", force_remount=True).\n"
          ]
        }
      ]
    },
    {
      "cell_type": "code",
      "source": [
        "import pandas as pd\n",
        "from sklearn.preprocessing import LabelEncoder\n",
        "from sklearn.tree import DecisionTreeClassifier\n",
        "from sklearn.metrics import accuracy_score"
      ],
      "metadata": {
        "id": "VBYrg4fTwTBE"
      },
      "execution_count": null,
      "outputs": []
    },
    {
      "cell_type": "code",
      "source": [
        "import pandas as pd\n",
        "\n",
        "# Update the path according to your file location\n",
        "train_path = \"/content/drive/My Drive/colour_Histogram_Training.csv\"\n",
        "test_path = \"/content/drive/My Drive/colour_Histogram_Testing.csv\"\n",
        "\n",
        "# Load the CSV files\n",
        "df_train = pd.read_csv(train_path)\n",
        "df_test = pd.read_csv(test_path)\n",
        "\n",
        "# Display the first few rows\n",
        "df_train.head(), df_test.head()\n"
      ],
      "metadata": {
        "colab": {
          "base_uri": "https://localhost:8080/"
        },
        "id": "yZYI15ufgkFl",
        "outputId": "99667c73-43fe-49cb-f331-46b8e68d9e58"
      },
      "execution_count": null,
      "outputs": [
        {
          "output_type": "execute_result",
          "data": {
            "text/plain": [
              "(         filename    class   bin_0   bin_1   bin_2   bin_3   bin_4   bin_5  \\\n",
              " 0    r0_0_100.jpg  Apple 6  0.0000  0.0010  0.0424  0.1141  0.2909  0.2101   \n",
              " 1  r0_100_100.jpg  Apple 6  0.0008  0.0153  0.0587  0.1332  0.2876  0.1911   \n",
              " 2  r0_101_100.jpg  Apple 6  0.0001  0.0155  0.0602  0.1366  0.2813  0.1854   \n",
              " 3  r0_102_100.jpg  Apple 6  0.0003  0.0174  0.0567  0.1400  0.2774  0.1922   \n",
              " 4  r0_104_100.jpg  Apple 6  0.0003  0.0186  0.0583  0.1427  0.2632  0.1926   \n",
              " \n",
              "     bin_6   bin_7  ...  bin_14  bin_15  bin_16  bin_17  bin_18  bin_19  \\\n",
              " 0  0.0260  0.3155  ...  0.0226  0.3151  0.0312  0.1122  0.2437  0.1805   \n",
              " 1  0.0081  0.3052  ...  0.0091  0.3051  0.0948  0.1708  0.2401  0.1445   \n",
              " 2  0.0080  0.3129  ...  0.0079  0.3136  0.0945  0.1712  0.2329  0.1449   \n",
              " 3  0.0091  0.3069  ...  0.0094  0.3069  0.1009  0.1679  0.2375  0.1416   \n",
              " 4  0.0088  0.3155  ...  0.0099  0.3157  0.1039  0.1634  0.2261  0.1472   \n",
              " \n",
              "    bin_20  bin_21  bin_22  bin_23  \n",
              " 0  0.0927  0.0195  0.0073  0.3129  \n",
              " 1  0.0327  0.0070  0.0071  0.3030  \n",
              " 2  0.0323  0.0064  0.0074  0.3104  \n",
              " 3  0.0324  0.0076  0.0075  0.3046  \n",
              " 4  0.0304  0.0074  0.0084  0.3132  \n",
              " \n",
              " [5 rows x 26 columns],\n",
              "          filename    class   bin_0   bin_1   bin_2   bin_3   bin_4   bin_5  \\\n",
              " 0  r0_103_100.jpg  Apple 6  0.0004  0.0176  0.0581  0.1434  0.2722  0.1882   \n",
              " 1  r0_107_100.jpg  Apple 6  0.0003  0.0181  0.0619  0.1460  0.2567  0.1881   \n",
              " 2  r0_111_100.jpg  Apple 6  0.0000  0.0202  0.0623  0.1483  0.2541  0.1756   \n",
              " 3  r0_115_100.jpg  Apple 6  0.0000  0.0196  0.0699  0.1451  0.2456  0.1771   \n",
              " 4  r0_119_100.jpg  Apple 6  0.0001  0.0216  0.0701  0.1351  0.2332  0.1829   \n",
              " \n",
              "     bin_6   bin_7  ...  bin_14  bin_15  bin_16  bin_17  bin_18  bin_19  \\\n",
              " 0  0.0087  0.3114  ...  0.0094  0.3117  0.1028  0.1636  0.2328  0.1438   \n",
              " 1  0.0076  0.3213  ...  0.0083  0.3218  0.1097  0.1738  0.2098  0.1469   \n",
              " 2  0.0070  0.3325  ...  0.0088  0.3329  0.1183  0.1677  0.2018  0.1415   \n",
              " 3  0.0091  0.3336  ...  0.0099  0.3341  0.1219  0.1697  0.2023  0.1341   \n",
              " 4  0.0094  0.3476  ...  0.0102  0.3478  0.1242  0.1600  0.2025  0.1282   \n",
              " \n",
              "    bin_20  bin_21  bin_22  bin_23  \n",
              " 0  0.0325  0.0081  0.0067  0.3097  \n",
              " 1  0.0273  0.0066  0.0069  0.3190  \n",
              " 2  0.0269  0.0074  0.0067  0.3297  \n",
              " 3  0.0256  0.0078  0.0072  0.3314  \n",
              " 4  0.0245  0.0077  0.0080  0.3449  \n",
              " \n",
              " [5 rows x 26 columns])"
            ]
          },
          "metadata": {},
          "execution_count": 58
        }
      ]
    },
    {
      "cell_type": "code",
      "source": [
        "# Drop 'filename' column (not useful for training)\n",
        "df_train = df_train.drop(columns=[\"filename\"])\n",
        "df_test = df_test.drop(columns=[\"filename\"])\n",
        "\n",
        "# Encode class labels to numbers\n",
        "encoder = LabelEncoder()\n",
        "df_train[\"class\"] = encoder.fit_transform(df_train[\"class\"])\n",
        "df_test[\"class\"] = encoder.transform(df_test[\"class\"])  # Transform test labels safely\n",
        "\n",
        "# Split features and labels\n",
        "X_train = df_train.drop(columns=[\"class\"])\n",
        "y_train = df_train[\"class\"]\n",
        "X_test = df_test.drop(columns=[\"class\"])\n",
        "y_test = df_test[\"class\"]\n"
      ],
      "metadata": {
        "id": "83Md25Ygmd0S"
      },
      "execution_count": null,
      "outputs": []
    },
    {
      "cell_type": "code",
      "source": [
        "# Create Decision Tree Classifier\n",
        "dt_model = DecisionTreeClassifier()\n",
        "\n",
        "# Train the model\n",
        "dt_model.fit(X_train, y_train)\n",
        "\n",
        "# Make predictions\n",
        "y_pred = dt_model.predict(X_test)\n",
        "\n",
        "# Calculate accuracy\n",
        "accuracy = accuracy_score(y_test, y_pred)\n",
        "print(f\" Accuracy: {accuracy * 100:.2f}%\")\n"
      ],
      "metadata": {
        "id": "Nmv71ERLhfw6",
        "colab": {
          "base_uri": "https://localhost:8080/"
        },
        "outputId": "ee2b2e7c-f805-4256-b0fd-625a43ca9dd9"
      },
      "execution_count": null,
      "outputs": [
        {
          "output_type": "stream",
          "name": "stdout",
          "text": [
            " Model Accuracy: 87.23%\n"
          ]
        }
      ]
    }
  ]
}