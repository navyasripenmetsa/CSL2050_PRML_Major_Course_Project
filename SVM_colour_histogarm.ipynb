{
  "nbformat": 4,
  "nbformat_minor": 0,
  "metadata": {
    "colab": {
      "provenance": []
    },
    "kernelspec": {
      "name": "python3",
      "display_name": "Python 3"
    },
    "language_info": {
      "name": "python"
    }
  },
  "cells": [
    {
      "cell_type": "code",
      "source": [
        "import pandas as pd\n",
        "from sklearn.svm import SVC\n",
        "from sklearn.preprocessing import LabelEncoder, StandardScaler\n",
        "from sklearn.metrics import accuracy_score, precision_score, recall_score, f1_score\n",
        "\n",
        "# Load data\n",
        "train_df = pd.read_csv('/content/colour_Histogram_Training.csv')\n",
        "test_df = pd.read_csv('/content/colour_Histogram_Testing.csv')\n",
        "\n",
        "X_train = train_df.drop(columns=['filename', 'class'])\n",
        "y_train = train_df['class']\n",
        "X_test = test_df.drop(columns=['filename', 'class'])\n",
        "y_test = test_df['class']\n",
        "\n",
        "# Encode class labels\n",
        "label_encoder = LabelEncoder()\n",
        "y_train_encoded = label_encoder.fit_transform(y_train)\n",
        "y_test_encoded = label_encoder.transform(y_test)\n",
        "\n",
        "# Standardize features\n",
        "scaler = StandardScaler()\n",
        "X_train_scaled = scaler.fit_transform(X_train)\n",
        "X_test_scaled = scaler.transform(X_test)\n",
        "\n",
        "# Train SVM model (using linear kernel for speed)\n",
        "svm_model = SVC(kernel='linear', C=1.0)\n",
        "svm_model.fit(X_train_scaled, y_train_encoded)\n",
        "\n",
        "# Predict on test data\n",
        "y_pred = svm_model.predict(X_test_scaled)\n",
        "\n",
        "# Evaluate model\n",
        "accuracy = accuracy_score(y_test_encoded, y_pred)\n",
        "precision = precision_score(y_test_encoded, y_pred, average='weighted')\n",
        "recall = recall_score(y_test_encoded, y_pred, average='weighted')\n",
        "f1 = f1_score(y_test_encoded, y_pred, average='weighted')\n",
        "\n",
        "# Print results\n",
        "print(f'Accuracy: {accuracy:.4f}')\n",
        "print(f'Precision: {precision:.4f}')\n",
        "print(f'Recall: {recall:.4f}')\n",
        "print(f'F1-score: {f1:.4f}')\n"
      ],
      "metadata": {
        "colab": {
          "base_uri": "https://localhost:8080/"
        },
        "id": "LA54r-ot-rs4",
        "outputId": "de8ac1c6-77f9-4512-9913-39baac5a96c6"
      },
      "execution_count": null,
      "outputs": [
        {
          "output_type": "stream",
          "name": "stdout",
          "text": [
            "Accuracy: 0.9707\n",
            "Precision: 0.9728\n",
            "Recall: 0.9707\n",
            "F1-score: 0.9692\n"
          ]
        }
      ]
    }
  ]
}