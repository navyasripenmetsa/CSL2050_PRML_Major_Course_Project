{
  "nbformat": 4,
  "nbformat_minor": 0,
  "metadata": {
    "colab": {
      "provenance": [],
      "authorship_tag": "ABX9TyOGG4jiV33XsrPd5JQilBkV",
      "include_colab_link": true
    },
    "kernelspec": {
      "name": "python3",
      "display_name": "Python 3"
    },
    "language_info": {
      "name": "python"
    }
  },
  "cells": [
    {
      "cell_type": "markdown",
      "metadata": {
        "id": "view-in-github",
        "colab_type": "text"
      },
      "source": [
        "<a href=\"https://colab.research.google.com/github/navyasripenmetsa/CSL2050_PRML_Major_Course_Project/blob/Decision_Trees/Decision_Tree_HOG.ipynb\" target=\"_parent\"><img src=\"https://colab.research.google.com/assets/colab-badge.svg\" alt=\"Open In Colab\"/></a>"
      ]
    },
    {
      "cell_type": "code",
      "execution_count": 1,
      "metadata": {
        "id": "Ipsovb1x28BV"
      },
      "outputs": [],
      "source": [
        "import pandas as pd\n",
        "import numpy as np\n",
        "from sklearn.tree import DecisionTreeClassifier\n",
        "from sklearn.metrics import accuracy_score, classification_report\n",
        "from sklearn.preprocessing import LabelEncoder\n",
        "from sklearn.impute import SimpleImputer\n"
      ]
    },
    {
      "cell_type": "code",
      "source": [
        "# Load your CSV files\n",
        "train_data = pd.read_csv('HOG_Training.csv')\n",
        "test_data = pd.read_csv('HOG_Testing.csv')\n"
      ],
      "metadata": {
        "id": "gwN8Goj2-bzf"
      },
      "execution_count": 2,
      "outputs": []
    },
    {
      "cell_type": "code",
      "source": [
        "X_train = train_data.iloc[:, 1:]  # All columns except the first one\n",
        "y_train = train_data.iloc[:, 0]   # First column as target\n",
        "X_test = test_data.iloc[:, 1:]    # All columns except the first one\n",
        "y_test = test_data.iloc[:, 0]     # First column as target\n"
      ],
      "metadata": {
        "id": "3OZ5ksIrBC1c"
      },
      "execution_count": 3,
      "outputs": []
    }
  ]
}