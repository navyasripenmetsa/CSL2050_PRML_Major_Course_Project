{
  "nbformat": 4,
  "nbformat_minor": 0,
  "metadata": {
    "colab": {
      "provenance": [],
      "authorship_tag": "ABX9TyO7WFRyGrouFf8TuIlnJP3k",
      "include_colab_link": true
    },
    "kernelspec": {
      "name": "python3",
      "display_name": "Python 3"
    },
    "language_info": {
      "name": "python"
    }
  },
  "cells": [
    {
      "cell_type": "markdown",
      "metadata": {
        "id": "view-in-github",
        "colab_type": "text"
      },
      "source": [
        "<a href=\"https://colab.research.google.com/github/navyasripenmetsa/CSL2050_PRML_Major_Course_Project/blob/Decision_Trees/Decision_Tree_HOG.ipynb\" target=\"_parent\"><img src=\"https://colab.research.google.com/assets/colab-badge.svg\" alt=\"Open In Colab\"/></a>"
      ]
    },
    {
      "cell_type": "code",
      "execution_count": 24,
      "metadata": {
        "id": "Ipsovb1x28BV"
      },
      "outputs": [],
      "source": [
        "import pandas as pd\n",
        "import numpy as np\n",
        "from sklearn.tree import DecisionTreeClassifier\n",
        "from sklearn.metrics import accuracy_score, classification_report\n",
        "from sklearn.preprocessing import LabelEncoder\n",
        "from sklearn.impute import SimpleImputer"
      ]
    },
    {
      "cell_type": "code",
      "source": [
        "# 1. Load your CSV files\n",
        "train_data = pd.read_csv('HOG_Training.csv')\n",
        "test_data = pd.read_csv('HOG_Testing.csv')\n"
      ],
      "metadata": {
        "id": "gwN8Goj2-bzf"
      },
      "execution_count": 25,
      "outputs": []
    },
    {
      "cell_type": "code",
      "source": [
        "X_train = train_data.iloc[:, 1:]  # All columns except the first one\n",
        "y_train = train_data.iloc[:, 0]   # First column as target\n",
        "X_test = test_data.iloc[:, 1:]    # All columns except the first one\n",
        "y_test = test_data.iloc[:, 0]     # First column as target\n"
      ],
      "metadata": {
        "id": "3OZ5ksIrBC1c"
      },
      "execution_count": 26,
      "outputs": []
    },
    {
      "cell_type": "code",
      "source": [
        "test_mask = y_test.isin(y_train.unique())\n",
        "X_test_filtered = X_test[test_mask]\n",
        "y_test_filtered = y_test[test_mask]\n"
      ],
      "metadata": {
        "id": "7L56-8TlBU_s"
      },
      "execution_count": 27,
      "outputs": []
    },
    {
      "cell_type": "code",
      "source": [
        "# 4. Encode the class labels\n",
        "le = LabelEncoder()\n",
        "y_train_encoded = le.fit_transform(y_train)\n",
        "y_test_encoded = le.transform(y_test_filtered)"
      ],
      "metadata": {
        "id": "SQ1J-0lmE5pU"
      },
      "execution_count": 28,
      "outputs": []
    },
    {
      "cell_type": "code",
      "source": [
        "# 5. Handle missing values (NaN) using imputation\n",
        "print(\"Handling missing values...\")\n",
        "imputer = SimpleImputer(strategy='mean')\n",
        "X_train_imputed = imputer.fit_transform(X_train)\n",
        "X_test_imputed = imputer.transform(X_test_filtered)"
      ],
      "metadata": {
        "colab": {
          "base_uri": "https://localhost:8080/"
        },
        "id": "BvazXsdxFaJq",
        "outputId": "8cdb1714-2271-4662-b500-dafc9e802830"
      },
      "execution_count": 29,
      "outputs": [
        {
          "output_type": "stream",
          "name": "stdout",
          "text": [
            "Handling missing values...\n"
          ]
        }
      ]
    }
  ]
}