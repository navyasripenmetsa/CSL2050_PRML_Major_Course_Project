{
  "cells": [
    {
      "cell_type": "code",
      "source": [
        "import pandas as pd\n",
        "import numpy as np\n",
        "from sklearn.tree import DecisionTreeClassifier\n",
        "from sklearn.metrics import accuracy_score, classification_report\n",
        "from sklearn.preprocessing import LabelEncoder\n",
        "from sklearn.impute import SimpleImputer"
      ],
      "metadata": {
        "id": "XakX5_bwkwpH"
      },
      "execution_count": 1,
      "outputs": []
    },
    {
      "cell_type": "code",
      "source": [
        "# 1. Load your CSV files\n",
        "train_data = pd.read_csv('HOG_Training.csv')\n",
        "test_data = pd.read_csv('HOG_Testing.csv')"
      ],
      "metadata": {
        "id": "9tGSSlwklF25"
      },
      "execution_count": 2,
      "outputs": []
    },
    {
      "cell_type": "code",
      "source": [
        "# 2. Separate features and labels\n",
        "X_train = train_data.iloc[:, 1:]  # All columns except the first one\n",
        "y_train = train_data.iloc[:, 0]   # First column as target\n",
        "X_test = test_data.iloc[:, 1:]    # All columns except the first one\n",
        "y_test = test_data.iloc[:, 0]     # First column as target"
      ],
      "metadata": {
        "id": "Ks75VGjolKTH"
      },
      "execution_count": 3,
      "outputs": []
    },
    {
      "cell_type": "code",
      "source": [
        "# 3. Handle unseen labels in test set\n",
        "test_mask = y_test.isin(y_train.unique())\n",
        "X_test_filtered = X_test[test_mask]\n",
        "y_test_filtered = y_test[test_mask]"
      ],
      "metadata": {
        "id": "v3FTzal5lN1O"
      },
      "execution_count": 4,
      "outputs": []
    },
    {
      "cell_type": "code",
      "source": [
        "# 4. Encode the class labels\n",
        "le = LabelEncoder()\n",
        "y_train_encoded = le.fit_transform(y_train)\n",
        "y_test_encoded = le.transform(y_test_filtered)"
      ],
      "metadata": {
        "id": "9vlYMEgClQz8"
      },
      "execution_count": 5,
      "outputs": []
    },
    {
      "cell_type": "code",
      "source": [
        "# 5. Handle missing values (NaN) using imputation\n",
        "print(\"Handling missing values...\")\n",
        "imputer = SimpleImputer(strategy='mean')\n",
        "X_train_imputed = imputer.fit_transform(X_train)\n",
        "X_test_imputed = imputer.transform(X_test_filtered)"
      ],
      "metadata": {
        "colab": {
          "base_uri": "https://localhost:8080/"
        },
        "id": "YRyt49IslWhr",
        "outputId": "683f0288-47df-429c-fb3b-b7d7b931b8de"
      },
      "execution_count": 6,
      "outputs": [
        {
          "output_type": "stream",
          "name": "stdout",
          "text": [
            "Handling missing values...\n"
          ]
        }
      ]
    },
    {
      "cell_type": "code",
      "source": [
        "# 6. Train a baseline model first\n",
        "print(\"Training baseline decision tree...\")\n",
        "baseline_dt = DecisionTreeClassifier(random_state=42)\n",
        "baseline_dt.fit(X_train_imputed, y_train_encoded)\n",
        "baseline_pred = baseline_dt.predict(X_test_imputed)\n",
        "baseline_accuracy = accuracy_score(y_test_encoded, baseline_pred)\n",
        "print(f\"Baseline Decision Tree Accuracy: {baseline_accuracy:.4f}\")"
      ],
      "metadata": {
        "colab": {
          "base_uri": "https://localhost:8080/"
        },
        "id": "BL-esFKElaj3",
        "outputId": "1fc97671-c402-456e-9186-ec4350bf9850"
      },
      "execution_count": 7,
      "outputs": [
        {
          "output_type": "stream",
          "name": "stdout",
          "text": [
            "Training baseline decision tree...\n",
            "Baseline Decision Tree Accuracy: 0.5671\n"
          ]
        }
      ]
    },
    {
      "cell_type": "code",
      "source": [
        "# 7. Try a few strategically selected hyperparameter combinations\n",
        "print(\"Testing specific hyperparameter combinations...\")\n",
        "models = [\n",
        "    (\"Default + Max Depth 10\", DecisionTreeClassifier(max_depth=10, random_state=42)),\n",
        "    (\"Default + Max Depth 20\", DecisionTreeClassifier(max_depth=20, random_state=42)),\n",
        "    (\"Entropy + Max Depth 20\", DecisionTreeClassifier(criterion='entropy', max_depth=20, random_state=42)),\n",
        "    (\"Min Samples Split 10\", DecisionTreeClassifier(min_samples_split=10, random_state=42)),\n",
        "    (\"Min Samples Leaf 5\", DecisionTreeClassifier(min_samples_leaf=5, random_state=42)),\n",
        "    (\"Balanced Weights\", DecisionTreeClassifier(class_weight='balanced', random_state=42)),\n",
        "    (\"Combined Parameters\", DecisionTreeClassifier(\n",
        "        criterion='entropy',\n",
        "        max_depth=20,\n",
        "        min_samples_split=10,\n",
        "        min_samples_leaf=2,\n",
        "        class_weight='balanced',\n",
        "        random_state=42\n",
        "    ))\n",
        "]\n",
        "\n",
        "best_model = None\n",
        "best_accuracy = baseline_accuracy\n",
        "best_name = \"Baseline\"\n",
        "\n",
        "for name, model in models:\n",
        "    model.fit(X_train_imputed, y_train_encoded)\n",
        "    y_pred = model.predict(X_test_imputed)\n",
        "    accuracy = accuracy_score(y_test_encoded, y_pred)\n",
        "    print(f\"{name} Accuracy: {accuracy:.4f}\")\n",
        "\n",
        "    if accuracy > best_accuracy:\n",
        "        best_accuracy = accuracy\n",
        "        best_model = model\n",
        "        best_name = name\n",
        "\n",
        "print(f\"\\nBest model: {best_name} with accuracy: {best_accuracy:.4f}\")"
      ],
      "metadata": {
        "colab": {
          "base_uri": "https://localhost:8080/"
        },
        "id": "x2Sr5sE7limq",
        "outputId": "236b742c-32f7-45a9-f41b-70f5b6079007"
      },
      "execution_count": 8,
      "outputs": [
        {
          "output_type": "stream",
          "name": "stdout",
          "text": [
            "Testing specific hyperparameter combinations...\n",
            "Default + Max Depth 10 Accuracy: 0.5372\n",
            "Default + Max Depth 20 Accuracy: 0.5817\n",
            "Entropy + Max Depth 20 Accuracy: 0.6071\n",
            "Min Samples Split 10 Accuracy: 0.5861\n",
            "Min Samples Leaf 5 Accuracy: 0.5709\n",
            "Balanced Weights Accuracy: 0.5906\n",
            "Combined Parameters Accuracy: 0.6020\n",
            "\n",
            "Best model: Entropy + Max Depth 20 with accuracy: 0.6071\n"
          ]
        }
      ]
    },
    {
      "cell_type": "code",
      "source": [
        "# 8. Print classification report for the best model\n",
        "if best_model is not None:\n",
        "    y_pred = best_model.predict(X_test_imputed)\n",
        "    print(\"\\nClassification Report:\")\n",
        "    print(classification_report(y_test_encoded, y_pred))\n",
        "\n",
        "    # Feature importance analysis\n",
        "    feature_importances = best_model.feature_importances_\n",
        "    feature_indices = np.argsort(feature_importances)[::-1]\n",
        "    print(\"\\nTop 10 most important features:\")\n",
        "    for i in range(min(10, len(feature_indices))):\n",
        "        print(f\"Feature {feature_indices[i]}: {feature_importances[feature_indices[i]]:.4f}\")"
      ],
      "metadata": {
        "colab": {
          "base_uri": "https://localhost:8080/"
        },
        "id": "DBBWKQLpmLjZ",
        "outputId": "b3a924fa-48a9-4596-c8f8-3ba67d3bdacb"
      },
      "execution_count": 9,
      "outputs": [
        {
          "output_type": "stream",
          "name": "stdout",
          "text": [
            "\n",
            "Classification Report:\n",
            "              precision    recall  f1-score   support\n",
            "\n",
            "           0       0.75      0.35      0.48       144\n",
            "           1       0.90      0.63      0.74       164\n",
            "           2       0.91      0.78      0.84       152\n",
            "           3       0.00      0.00      0.00         0\n",
            "           4       0.64      0.36      0.46       150\n",
            "           5       0.00      0.00      0.00         0\n",
            "           6       0.00      0.00      0.00         0\n",
            "           7       0.00      0.00      0.00         0\n",
            "           8       0.00      0.00      0.00         0\n",
            "           9       0.00      0.00      0.00         0\n",
            "          10       0.88      0.60      0.71       164\n",
            "          11       0.92      0.92      0.92       246\n",
            "          12       0.00      0.00      0.00         0\n",
            "          13       0.00      0.00      0.00         0\n",
            "          14       0.00      0.00      0.00         0\n",
            "          15       0.00      0.00      0.00         0\n",
            "          16       0.47      0.31      0.37       150\n",
            "          17       0.00      0.00      0.00         0\n",
            "          18       0.64      0.61      0.63       246\n",
            "          19       0.00      0.00      0.00         0\n",
            "          20       0.00      0.00      0.00         0\n",
            "          21       0.81      0.69      0.74       157\n",
            "\n",
            "    accuracy                           0.61      1573\n",
            "   macro avg       0.31      0.24      0.27      1573\n",
            "weighted avg       0.77      0.61      0.67      1573\n",
            "\n",
            "\n",
            "Top 10 most important features:\n",
            "Feature 227: 0.1301\n",
            "Feature 2: 0.1059\n",
            "Feature 87: 0.0736\n",
            "Feature 240: 0.0403\n",
            "Feature 234: 0.0323\n",
            "Feature 78: 0.0303\n",
            "Feature 294: 0.0301\n",
            "Feature 61: 0.0236\n",
            "Feature 38: 0.0200\n",
            "Feature 159: 0.0179\n"
          ]
        },
        {
          "output_type": "stream",
          "name": "stderr",
          "text": [
            "/usr/local/lib/python3.11/dist-packages/sklearn/metrics/_classification.py:1565: UndefinedMetricWarning: Recall is ill-defined and being set to 0.0 in labels with no true samples. Use `zero_division` parameter to control this behavior.\n",
            "  _warn_prf(average, modifier, f\"{metric.capitalize()} is\", len(result))\n",
            "/usr/local/lib/python3.11/dist-packages/sklearn/metrics/_classification.py:1565: UndefinedMetricWarning: Recall is ill-defined and being set to 0.0 in labels with no true samples. Use `zero_division` parameter to control this behavior.\n",
            "  _warn_prf(average, modifier, f\"{metric.capitalize()} is\", len(result))\n",
            "/usr/local/lib/python3.11/dist-packages/sklearn/metrics/_classification.py:1565: UndefinedMetricWarning: Recall is ill-defined and being set to 0.0 in labels with no true samples. Use `zero_division` parameter to control this behavior.\n",
            "  _warn_prf(average, modifier, f\"{metric.capitalize()} is\", len(result))\n"
          ]
        }
      ]
    }
  ],
  "metadata": {
    "colab": {
      "provenance": []
    },
    "kernelspec": {
      "display_name": "Python 3",
      "name": "python3"
    },
    "language_info": {
      "name": "python"
    }
  },
  "nbformat": 4,
  "nbformat_minor": 0
}