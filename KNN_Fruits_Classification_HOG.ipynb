{
  "nbformat": 4,
  "nbformat_minor": 0,
  "metadata": {
    "colab": {
      "provenance": [],
      "authorship_tag": "ABX9TyNIIAd8nxHlHcZ/bQ+JcH3r",
      "include_colab_link": true
    },
    "kernelspec": {
      "name": "python3",
      "display_name": "Python 3"
    },
    "language_info": {
      "name": "python"
    }
  },
  "cells": [
    {
      "cell_type": "markdown",
      "metadata": {
        "id": "view-in-github",
        "colab_type": "text"
      },
      "source": [
        "<a href=\"https://colab.research.google.com/github/navyasripenmetsa/CSL2050_PRML_Major_Course_Project/blob/KNN/KNN_Fruits_Classification_HOG.ipynb\" target=\"_parent\"><img src=\"https://colab.research.google.com/assets/colab-badge.svg\" alt=\"Open In Colab\"/></a>"
      ]
    },
    {
      "cell_type": "code",
      "execution_count": 1,
      "metadata": {
        "colab": {
          "base_uri": "https://localhost:8080/"
        },
        "id": "A1oQnQY9gK26",
        "outputId": "03707d6d-cd2c-4233-9731-60705948a366"
      },
      "outputs": [
        {
          "output_type": "stream",
          "name": "stdout",
          "text": [
            "Mounted at /content/drive\n"
          ]
        }
      ],
      "source": [
        "from google.colab import drive\n",
        "drive.mount('/content/drive')"
      ]
    },
    {
      "cell_type": "code",
      "source": [
        "import pandas as pd\n",
        "import numpy as np\n",
        "from sklearn.model_selection import train_test_split\n",
        "from sklearn.preprocessing import StandardScaler\n",
        "from sklearn.decomposition import PCA\n",
        "from sklearn.neighbors import KNeighborsClassifier\n",
        "from sklearn.metrics import accuracy_score\n",
        "from google.colab import drive\n",
        "# Load datasets\n",
        "train_path = \"/content/drive/My Drive/hog_features_train.csv\"\n",
        "test_path = \"/content/drive/My Drive/fruits_hog_features_test.csv\"\n",
        "train_df = pd.read_csv(train_path)\n",
        "test_df = pd.read_csv(test_path)\n",
        "# Extract features and labels\n",
        "X_train = train_df.drop(columns=[\"Class\"])\n",
        "y_train = train_df[\"Class\"]\n",
        "X_test = test_df.drop(columns=[\"Class\"])\n",
        "y_test = test_df[\"Class\"]\n",
        "# Standardize features\n",
        "scaler = StandardScaler()\n",
        "X_train_scaled = scaler.fit_transform(X_train)\n",
        "X_test_scaled = scaler.transform(X_test)\n",
        "# Perform PCA (optional)\n",
        "pca = PCA(n_components=0.95)  # Retain 95% variance\n",
        "X_train_pca = pca.fit_transform(X_train_scaled)\n",
        "X_test_pca = pca.transform(X_test_scaled)\n",
        "# Train KNN models with k from 1 to 30\n",
        "accuracies = {}\n",
        "for k in range(1, 31):\n",
        "    knn = KNeighborsClassifier(n_neighbors=k)\n",
        "    knn.fit(X_train_pca, y_train)\n",
        "    y_pred = knn.predict(X_test_pca)\n",
        "    accuracy = accuracy_score(y_test, y_pred)\n",
        "    accuracies[k] = accuracy\n",
        "    print(f\"K={k}, Accuracy={accuracy:.4f}\")"
      ],
      "metadata": {
        "colab": {
          "base_uri": "https://localhost:8080/"
        },
        "id": "vlaECTm6VNZU",
        "outputId": "5821a23f-713b-4943-c82e-70f0de6fd95d"
      },
      "execution_count": 4,
      "outputs": [
        {
          "output_type": "stream",
          "name": "stdout",
          "text": [
            "K=1, Accuracy=0.8534\n",
            "K=2, Accuracy=0.8386\n",
            "K=3, Accuracy=0.8377\n",
            "K=4, Accuracy=0.8321\n",
            "K=5, Accuracy=0.8283\n",
            "K=6, Accuracy=0.8236\n",
            "K=7, Accuracy=0.8198\n",
            "K=8, Accuracy=0.8151\n",
            "K=9, Accuracy=0.8101\n",
            "K=10, Accuracy=0.8063\n",
            "K=11, Accuracy=0.8030\n",
            "K=12, Accuracy=0.7989\n",
            "K=13, Accuracy=0.7969\n",
            "K=14, Accuracy=0.7922\n",
            "K=15, Accuracy=0.7892\n",
            "K=16, Accuracy=0.7868\n",
            "K=17, Accuracy=0.7826\n",
            "K=18, Accuracy=0.7803\n",
            "K=19, Accuracy=0.7763\n",
            "K=20, Accuracy=0.7727\n",
            "K=21, Accuracy=0.7689\n",
            "K=22, Accuracy=0.7646\n",
            "K=23, Accuracy=0.7621\n",
            "K=24, Accuracy=0.7588\n",
            "K=25, Accuracy=0.7566\n",
            "K=26, Accuracy=0.7540\n",
            "K=27, Accuracy=0.7499\n",
            "K=28, Accuracy=0.7474\n",
            "K=29, Accuracy=0.7434\n",
            "K=30, Accuracy=0.7412\n"
          ]
        }
      ]
    }
  ]
}