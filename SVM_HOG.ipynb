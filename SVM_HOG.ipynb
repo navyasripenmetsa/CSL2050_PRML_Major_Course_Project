{
  "nbformat": 4,
  "nbformat_minor": 0,
  "metadata": {
    "colab": {
      "provenance": []
    },
    "kernelspec": {
      "name": "python3",
      "display_name": "Python 3"
    },
    "language_info": {
      "name": "python"
    }
  },
  "cells": [
    {
      "cell_type": "code",
      "execution_count": null,
      "metadata": {
        "id": "ZwffqnYLX8Qg",
        "colab": {
          "base_uri": "https://localhost:8080/"
        },
        "outputId": "b7bb83f1-6b44-419d-98ff-f73e3465db5b"
      },
      "outputs": [
        {
          "output_type": "stream",
          "name": "stdout",
          "text": [
            "Accuracy: 0.8710\n",
            "Precision: 0.8754\n",
            "Recall: 0.8710\n",
            "F1-score: 0.8680\n"
          ]
        }
      ],
      "source": [
        "import pandas as pd\n",
        "import numpy as np\n",
        "from sklearn.svm import SVC\n",
        "from sklearn.preprocessing import LabelEncoder, StandardScaler\n",
        "from sklearn.impute import SimpleImputer\n",
        "from sklearn.metrics import accuracy_score, precision_score, recall_score, f1_score\n",
        "\n",
        "# Load data\n",
        "train_df = pd.read_csv('/content/hog_features_train.csv')\n",
        "test_df = pd.read_csv('/content/fruits_hog_features_test.csv')\n",
        "\n",
        "# Ensure 'Class' column exists\n",
        "if 'Class' not in train_df.columns or 'Class' not in test_df.columns:\n",
        "    raise ValueError(\"Column 'Class' not found in dataset!\")\n",
        "\n",
        "# Convert 'Class' to string to ensure correct encoding\n",
        "train_df['Class'] = train_df['Class'].astype(str)\n",
        "test_df['Class'] = test_df['Class'].astype(str)\n",
        "\n",
        "# Filter test set to only include classes present in training\n",
        "known_classes = set(train_df['Class'].unique())\n",
        "test_df = test_df[test_df['Class'].isin(known_classes)]\n",
        "\n",
        "# Separate features and labels\n",
        "X_train = train_df.drop(columns=['Class'])\n",
        "y_train = train_df['Class']\n",
        "X_test = test_df.drop(columns=['Class'])\n",
        "y_test = test_df['Class']\n",
        "\n",
        "# Encode class labels\n",
        "label_encoder = LabelEncoder()\n",
        "y_train_encoded = label_encoder.fit_transform(y_train)\n",
        "y_test_encoded = label_encoder.transform(y_test)\n",
        "\n",
        "# Impute NaN values (replace with mean)\n",
        "imputer = SimpleImputer(strategy='mean')  # or 'median', 'most_frequent'\n",
        "X_train_imputed = imputer.fit_transform(X_train)\n",
        "X_test_imputed = imputer.transform(X_test)\n",
        "\n",
        "# Standardize features\n",
        "scaler = StandardScaler()\n",
        "X_train_scaled = scaler.fit_transform(X_train_imputed)\n",
        "X_test_scaled = scaler.transform(X_test_imputed)\n",
        "\n",
        "# Train SVM model\n",
        "svm_model = SVC(kernel='linear', C=1.0)\n",
        "svm_model.fit(X_train_scaled, y_train_encoded)\n",
        "\n",
        "# Predict on test data\n",
        "y_pred = svm_model.predict(X_test_scaled)\n",
        "\n",
        "# Evaluate model\n",
        "accuracy = accuracy_score(y_test_encoded, y_pred)\n",
        "precision = precision_score(y_test_encoded, y_pred, average='weighted')\n",
        "recall = recall_score(y_test_encoded, y_pred, average='weighted')\n",
        "f1 = f1_score(y_test_encoded, y_pred, average='weighted')\n",
        "\n",
        "# Print results\n",
        "print(f'Accuracy: {accuracy:.4f}')\n",
        "print(f'Precision: {precision:.4f}')\n",
        "print(f'Recall: {recall:.4f}')\n",
        "print(f'F1-score: {f1:.4f}')"
      ]
    },
    {
      "cell_type": "code",
      "source": [
        "import pandas as pd\n",
        "import numpy as np\n",
        "from sklearn.svm import SVC\n",
        "from sklearn.preprocessing import LabelEncoder, StandardScaler\n",
        "from sklearn.impute import SimpleImputer\n",
        "from sklearn.metrics import accuracy_score, precision_score, recall_score, f1_score\n",
        "\n",
        "# Load data\n",
        "train_df = pd.read_csv('/content/hog_features_train.csv')\n",
        "test_df = pd.read_csv('/content/fruits_hog_features_test.csv')\n",
        "\n",
        "# Ensure 'Class' column exists\n",
        "if 'Class' not in train_df.columns or 'Class' not in test_df.columns:\n",
        "    raise ValueError(\"Column 'Class' not found in dataset!\")\n",
        "\n",
        "# Convert 'Class' to string to ensure correct encoding\n",
        "train_df['Class'] = train_df['Class'].astype(str)\n",
        "test_df['Class'] = test_df['Class'].astype(str)\n",
        "\n",
        "# Filter test set to only include classes present in training\n",
        "known_classes = set(train_df['Class'].unique())\n",
        "test_df = test_df[test_df['Class'].isin(known_classes)]\n",
        "\n",
        "# Separate features and labels\n",
        "X_train = train_df.drop(columns=['Class'])\n",
        "y_train = train_df['Class']\n",
        "X_test = test_df.drop(columns=['Class'])\n",
        "y_test = test_df['Class']\n",
        "\n",
        "# Encode class labels\n",
        "label_encoder = LabelEncoder()\n",
        "y_train_encoded = label_encoder.fit_transform(y_train)\n",
        "y_test_encoded = label_encoder.transform(y_test)\n",
        "\n",
        "# Impute NaN values (replace with mean)\n",
        "imputer = SimpleImputer(strategy='median')  # or 'median', 'most_frequent'\n",
        "X_train_imputed = imputer.fit_transform(X_train)\n",
        "X_test_imputed = imputer.transform(X_test)\n",
        "\n",
        "# Standardize features\n",
        "scaler = StandardScaler()\n",
        "X_train_scaled = scaler.fit_transform(X_train_imputed)\n",
        "X_test_scaled = scaler.transform(X_test_imputed)\n",
        "\n",
        "# Train SVM model\n",
        "svm_model = SVC(kernel='linear', C=1.0)\n",
        "svm_model.fit(X_train_scaled, y_train_encoded)\n",
        "\n",
        "# Predict on test data\n",
        "y_pred = svm_model.predict(X_test_scaled)\n",
        "\n",
        "# Evaluate model\n",
        "accuracy = accuracy_score(y_test_encoded, y_pred)\n",
        "precision = precision_score(y_test_encoded, y_pred, average='weighted')\n",
        "recall = recall_score(y_test_encoded, y_pred, average='weighted')\n",
        "f1 = f1_score(y_test_encoded, y_pred, average='weighted')\n",
        "\n",
        "# Print results\n",
        "print(f'Accuracy: {accuracy:.4f}')\n",
        "print(f'Precision: {precision:.4f}')\n",
        "print(f'Recall: {recall:.4f}')\n",
        "print(f'F1-score: {f1:.4f}')"
      ],
      "metadata": {
        "colab": {
          "base_uri": "https://localhost:8080/"
        },
        "id": "Cgpu3Rq4FXlr",
        "outputId": "f282cb32-4fb3-4f61-8ca0-489eac3c7710"
      },
      "execution_count": null,
      "outputs": [
        {
          "output_type": "stream",
          "name": "stdout",
          "text": [
            "Accuracy: 0.8687\n",
            "Precision: 0.8742\n",
            "Recall: 0.8687\n",
            "F1-score: 0.8656\n"
          ]
        }
      ]
    },
    {
      "cell_type": "code",
      "source": [
        "import pandas as pd\n",
        "import numpy as np\n",
        "from sklearn.svm import SVC\n",
        "from sklearn.preprocessing import LabelEncoder, StandardScaler\n",
        "from sklearn.impute import SimpleImputer\n",
        "from sklearn.metrics import accuracy_score, precision_score, recall_score, f1_score\n",
        "\n",
        "# Load data\n",
        "train_df = pd.read_csv('/content/hog_features_train.csv')\n",
        "test_df = pd.read_csv('/content/fruits_hog_features_test.csv')\n",
        "\n",
        "# Ensure 'Class' column exists\n",
        "if 'Class' not in train_df.columns or 'Class' not in test_df.columns:\n",
        "    raise ValueError(\"Column 'Class' not found in dataset!\")\n",
        "\n",
        "# Convert 'Class' to string to ensure correct encoding\n",
        "train_df['Class'] = train_df['Class'].astype(str)\n",
        "test_df['Class'] = test_df['Class'].astype(str)\n",
        "\n",
        "# Filter test set to only include classes present in training\n",
        "known_classes = set(train_df['Class'].unique())\n",
        "test_df = test_df[test_df['Class'].isin(known_classes)]\n",
        "\n",
        "# Separate features and labels\n",
        "X_train = train_df.drop(columns=['Class'])\n",
        "y_train = train_df['Class']\n",
        "X_test = test_df.drop(columns=['Class'])\n",
        "y_test = test_df['Class']\n",
        "\n",
        "# Encode class labels\n",
        "label_encoder = LabelEncoder()\n",
        "y_train_encoded = label_encoder.fit_transform(y_train)\n",
        "y_test_encoded = label_encoder.transform(y_test)\n",
        "\n",
        "# Impute NaN values (replace with mean)\n",
        "imputer = SimpleImputer(strategy='most_frequent')  # or 'median', 'most_frequent'\n",
        "X_train_imputed = imputer.fit_transform(X_train)\n",
        "X_test_imputed = imputer.transform(X_test)\n",
        "\n",
        "# Standardize features\n",
        "scaler = StandardScaler()\n",
        "X_train_scaled = scaler.fit_transform(X_train_imputed)\n",
        "X_test_scaled = scaler.transform(X_test_imputed)\n",
        "\n",
        "# Train SVM model\n",
        "svm_model = SVC(kernel='linear', C=1.0)\n",
        "svm_model.fit(X_train_scaled, y_train_encoded)\n",
        "\n",
        "# Predict on test data\n",
        "y_pred = svm_model.predict(X_test_scaled)\n",
        "\n",
        "# Evaluate model\n",
        "accuracy = accuracy_score(y_test_encoded, y_pred)\n",
        "precision = precision_score(y_test_encoded, y_pred, average='weighted')\n",
        "recall = recall_score(y_test_encoded, y_pred, average='weighted')\n",
        "f1 = f1_score(y_test_encoded, y_pred, average='weighted')\n",
        "\n",
        "# Print results\n",
        "print(f'Accuracy: {accuracy:.4f}')\n",
        "print(f'Precision: {precision:.4f}')\n",
        "print(f'Recall: {recall:.4f}')\n",
        "print(f'F1-score: {f1:.4f}')"
      ],
      "metadata": {
        "colab": {
          "base_uri": "https://localhost:8080/"
        },
        "id": "H9LHzzWIG9Lz",
        "outputId": "b5aa5b44-ce1e-4943-e154-bfb89c5f0d42"
      },
      "execution_count": null,
      "outputs": [
        {
          "output_type": "stream",
          "name": "stdout",
          "text": [
            "Accuracy: 0.8679\n",
            "Precision: 0.8735\n",
            "Recall: 0.8679\n",
            "F1-score: 0.8646\n"
          ]
        }
      ]
    }
  ]
}